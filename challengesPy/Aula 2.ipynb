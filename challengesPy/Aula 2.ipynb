{
 "cells": [
  {
   "cell_type": "markdown",
   "id": "e808ecc0",
   "metadata": {},
   "source": [
    "## LOOPS  "
   ]
  },
  {
   "cell_type": "code",
   "execution_count": null,
   "id": "b9b15b3b",
   "metadata": {},
   "outputs": [],
   "source": [
    "x = 0\n",
    "\n",
    "while x < 10:\n",
    "    print(x)\n",
    "    x+=1"
   ]
  },
  {
   "cell_type": "code",
   "execution_count": null,
   "id": "e201217b",
   "metadata": {},
   "outputs": [],
   "source": [
    "## NAO FAZER LOOP INFINITO:\n",
    "x = 0\n",
    "while x<10:\n",
    "    print(x)"
   ]
  },
  {
   "cell_type": "markdown",
   "id": "92b3b181",
   "metadata": {},
   "source": [
    "#### ITERAÇÕES  "
   ]
  },
  {
   "cell_type": "code",
   "execution_count": 2,
   "id": "bacd86b8",
   "metadata": {
    "scrolled": true
   },
   "outputs": [
    {
     "name": "stdout",
     "output_type": "stream",
     "text": [
      "0\n",
      "1\n",
      "2\n",
      "3\n",
      "4\n",
      "5\n",
      "6\n",
      "7\n",
      "8\n",
      "9\n",
      "10\n",
      "11\n",
      "12\n",
      "13\n",
      "14\n",
      "15\n",
      "16\n",
      "17\n",
      "18\n",
      "19\n"
     ]
    }
   ],
   "source": [
    "for i in range(0,20):\n",
    "    print(i)"
   ]
  },
  {
   "cell_type": "code",
   "execution_count": 3,
   "id": "9f1cdc64",
   "metadata": {
    "scrolled": true
   },
   "outputs": [
    {
     "name": "stdout",
     "output_type": "stream",
     "text": [
      "15\n",
      "16\n",
      "17\n",
      "18\n",
      "19\n"
     ]
    }
   ],
   "source": [
    "for i in range(15,20):\n",
    "    print(i)"
   ]
  },
  {
   "cell_type": "code",
   "execution_count": null,
   "id": "3ebca1b0",
   "metadata": {},
   "outputs": [],
   "source": [
    "lista = [1,5,7,'teste']\n",
    "\n",
    "for coisa in lista:\n",
    "    print(coisa)"
   ]
  },
  {
   "cell_type": "code",
   "execution_count": null,
   "id": "097e20b6",
   "metadata": {},
   "outputs": [],
   "source": [
    "y = 0\n",
    "x = [1,2,3]\n",
    "\n",
    "for numero in x:\n",
    "    y = y + numero\n",
    "    \n",
    "print(y)    \n",
    "    "
   ]
  },
  {
   "cell_type": "markdown",
   "id": "10df0092",
   "metadata": {},
   "source": [
    "## FUNCOES"
   ]
  },
  {
   "cell_type": "code",
   "execution_count": null,
   "id": "7b3df44c",
   "metadata": {},
   "outputs": [],
   "source": [
    "def func():\n",
    "    return 'Teste'"
   ]
  },
  {
   "cell_type": "code",
   "execution_count": null,
   "id": "5001434b",
   "metadata": {},
   "outputs": [],
   "source": [
    "func()"
   ]
  },
  {
   "cell_type": "code",
   "execution_count": null,
   "id": "7071efca",
   "metadata": {},
   "outputs": [],
   "source": [
    "def func(x):\n",
    "    return x**2"
   ]
  },
  {
   "cell_type": "code",
   "execution_count": null,
   "id": "26071e7c",
   "metadata": {},
   "outputs": [],
   "source": [
    "func(2)"
   ]
  },
  {
   "cell_type": "code",
   "execution_count": null,
   "id": "bee4522d",
   "metadata": {},
   "outputs": [],
   "source": [
    "func(4)"
   ]
  },
  {
   "cell_type": "code",
   "execution_count": null,
   "id": "85068a0f",
   "metadata": {},
   "outputs": [],
   "source": [
    "y = 2\n",
    "func(y)"
   ]
  },
  {
   "cell_type": "code",
   "execution_count": null,
   "id": "293ede83",
   "metadata": {},
   "outputs": [],
   "source": [
    "def func(string,n=3):\n",
    "    return string[:n]"
   ]
  },
  {
   "cell_type": "code",
   "execution_count": null,
   "id": "e8c9d82f",
   "metadata": {},
   "outputs": [],
   "source": [
    "func('Teste')"
   ]
  },
  {
   "cell_type": "code",
   "execution_count": null,
   "id": "df1f7b9d",
   "metadata": {},
   "outputs": [],
   "source": [
    "func('Teste',4)"
   ]
  },
  {
   "cell_type": "code",
   "execution_count": null,
   "id": "9764b289",
   "metadata": {},
   "outputs": [],
   "source": [
    "func('PEDRO',2)"
   ]
  },
  {
   "cell_type": "code",
   "execution_count": null,
   "id": "e0e3d92b",
   "metadata": {
    "scrolled": true
   },
   "outputs": [],
   "source": [
    "func(string='PEDRO',n=3)"
   ]
  },
  {
   "cell_type": "markdown",
   "id": "ca5ecd99",
   "metadata": {},
   "source": [
    "Exercícios Propostos:\n",
    "\n",
    "1) Printe os números de 5 até 20\n",
    "\n",
    "2) Printe todos os números pares de 0 a 100\n",
    "\n",
    "3) Crie uma função para calcular a área de um quadrado (o tamanho do lado do quadrado é o argumento da função).\n",
    "\n",
    "4) Crie uma função que receba um número e printe a tabuada desse número.\n",
    "\n",
    "5) Crie uma função que some até 3 números passados como parâmetros.\n",
    "\n",
    "6) Crie um função recursiva que retorne o fatorial de um número inteiro.\n",
    "\n",
    "7) Crie uma função que receba como argumento um número inteiro e retorne uma lista contendo os números da decomposição em fatores primos do número."
   ]
  }
 ],
 "metadata": {
  "kernelspec": {
   "display_name": "Python 3",
   "language": "python",
   "name": "python3"
  },
  "language_info": {
   "codemirror_mode": {
    "name": "ipython",
    "version": 3
   },
   "file_extension": ".py",
   "mimetype": "text/x-python",
   "name": "python",
   "nbconvert_exporter": "python",
   "pygments_lexer": "ipython3",
   "version": "3.8.8"
  }
 },
 "nbformat": 4,
 "nbformat_minor": 5
}
